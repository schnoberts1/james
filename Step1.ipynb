{
 "cells": [
  {
   "cell_type": "code",
   "execution_count": 2,
   "metadata": {},
   "outputs": [],
   "source": [
    "msg = b'\\x8c\\xf27\\x00u\\x04\\x00\\x00\\x08\\x00\\x00\\x00\\x00\\x00\\x00\\x00_r\\n\\x1b\\x998\\xd8\\x15'"
   ]
  },
  {
   "cell_type": "markdown",
   "metadata": {},
   "source": [
    "The above message has the following format:\n",
    "```\n",
    "unsigned integer - 4 bytes\n",
    "unsigned integer - 4 bytes\n",
    "unsigned integer - 1 byte\n",
    "unsigned integer - 1 byte\n",
    "unsigned integer - 1 byte\n",
    "padding          - 5 bytes\n",
    "unsigned integer - 8 bytes\n",
    "```\n",
    "\n",
    "Please unpack this message into 6 variables. The last unsigned integer is the time the message was sent. The time is expressed as the number of nanoseconds since the Unix epoch. The Unix epoch was 00:00:00 UTC on 1 January 1970 (minus leap seconds). As well as the values of the 6 variables, tell me what actual time the last integer represents, in the format YYYY-MM-DD HH:MM:SS. \n",
    "\n",
    "You will need to use a python library called struct to parse the message into the variables I've described. You will need to use the python datetime library to deal with the time. \n"
   ]
  },
  {
   "cell_type": "code",
   "execution_count": null,
   "metadata": {},
   "outputs": [],
   "source": []
  }
 ],
 "metadata": {
  "kernelspec": {
   "display_name": "Python 3",
   "language": "python",
   "name": "python3"
  },
  "language_info": {
   "codemirror_mode": {
    "name": "ipython",
    "version": 3
   },
   "file_extension": ".py",
   "mimetype": "text/x-python",
   "name": "python",
   "nbconvert_exporter": "python",
   "pygments_lexer": "ipython3",
   "version": "3.7.4"
  }
 },
 "nbformat": 4,
 "nbformat_minor": 2
}
